{
 "cells": [
  {
   "cell_type": "code",
   "execution_count": 1,
   "id": "d25956da-7ab4-4ea9-b301-fd73ed8c2bb5",
   "metadata": {
    "tags": []
   },
   "outputs": [],
   "source": [
    "import os\n",
    "import random\n",
    "from PIL import Image\n",
    "import matplotlib.pyplot as plt\n",
    "import matplotlib.image as mpimg\n",
    "import io"
   ]
  },
  {
   "cell_type": "code",
   "execution_count": 2,
   "id": "f3b64572-fd2a-45f9-bb72-d016acd2c753",
   "metadata": {
    "tags": []
   },
   "outputs": [],
   "source": [
    "IMAGE_WIDTH = 650\n",
    "IMAGE_HEIGHT = 400"
   ]
  },
  {
   "cell_type": "code",
   "execution_count": 3,
   "id": "d55ae594-70a6-4aa1-acb5-76976e360e1b",
   "metadata": {
    "tags": []
   },
   "outputs": [],
   "source": [
    "def convert_to_jpegimagefile(image):\n",
    "    with io.BytesIO() as buffer:\n",
    "        image.save(buffer, format=\"JPEG\")\n",
    "        buffer.seek(0)\n",
    "        return Image.open(buffer)\n",
    "\n",
    "def resize_background(bg_path, target_width, target_height):\n",
    "    with Image.open(bg_path) as bg:\n",
    "        bg_width, bg_height = bg.size\n",
    "#         Enlarge\n",
    "        if bg_width < target_width or bg_height < target_height:\n",
    "            resized_bg = bg.resize((target_width, target_height), Image.LANCZOS)\n",
    "#             Reduce\n",
    "        elif bg_width > target_width or bg_height > target_height:\n",
    "            resized_bg = bg.resize((target_width, target_height), Image.ANTIALIAS)\n",
    "        else:\n",
    "            resized_bg = bg.copy()  # Copy to ensure we don't return a closed image\n",
    "        return convert_to_jpegimagefile(resized_bg)"
   ]
  },
  {
   "cell_type": "code",
   "execution_count": 4,
   "id": "5d89c243-5055-42b2-a8ab-993c0d67d875",
   "metadata": {
    "tags": []
   },
   "outputs": [],
   "source": [
    "def place_waldo_on_bg(waldo_path, bg_image):\n",
    "    waldo = Image.open(waldo_path)\n",
    "    \n",
    "    waldo_width, waldo_height = waldo.size\n",
    "    bg_width, bg_height = bg_image.size\n",
    "    \n",
    "    if waldo_width > bg_width or waldo_height > bg_height:\n",
    "        factor = min((bg_width * .2)/waldo_width, (bg_height*.2)/waldo_height)\n",
    "        waldo = waldo.resize((int(waldo_width * factor), int(waldo_height * factor)), Image.ANTIALIAS)\n",
    "        waldo_width, waldo_height = waldo.size\n",
    "        \n",
    "    max_width_waldo = bg_width - waldo_width\n",
    "    max_height_waldo = bg_height - waldo_height\n",
    "    \n",
    "    place_width = random.randint(1, max_width_waldo)\n",
    "    place_height = random.randint(1, max_height_waldo)\n",
    "    \n",
    "    bg.paste(waldo, (place_width, place_height))\n",
    "    \n",
    "    return bg"
   ]
  },
  {
   "cell_type": "code",
   "execution_count": 5,
   "id": "be07b5d1-ab26-4c98-bcce-7d03b435dcb3",
   "metadata": {
    "tags": []
   },
   "outputs": [],
   "source": [
    "def send_img_to_directory(directory_path, image, file_name):\n",
    "    if not os.path.exists(directory_path):\n",
    "        os.makedirs(directory_path)\n",
    "        \n",
    "    file_path = os.path.join(directory_path, file_name)\n",
    "    image.save(file_name)\n",
    "    \n",
    "    return file_path"
   ]
  },
  {
   "cell_type": "code",
   "execution_count": 6,
   "id": "4f99efd5-fedc-4c7f-8ae3-f5cd1d42aad1",
   "metadata": {
    "tags": []
   },
   "outputs": [
    {
     "ename": "FileNotFoundError",
     "evalue": "[Errno 2] No such file or directory: 'data/images/waldo.jpg'",
     "output_type": "error",
     "traceback": [
      "\u001b[0;31m---------------------------------------------------------------------------\u001b[0m",
      "\u001b[0;31mFileNotFoundError\u001b[0m                         Traceback (most recent call last)",
      "Cell \u001b[0;32mIn[6], line 2\u001b[0m\n\u001b[1;32m      1\u001b[0m waldo_path \u001b[38;5;241m=\u001b[39m \u001b[38;5;124m'\u001b[39m\u001b[38;5;124mdata/images/waldo.jpg\u001b[39m\u001b[38;5;124m'\u001b[39m\n\u001b[0;32m----> 2\u001b[0m waldo \u001b[38;5;241m=\u001b[39m Image\u001b[38;5;241m.\u001b[39mopen(waldo_path)\n\u001b[1;32m      3\u001b[0m backgroud_path \u001b[38;5;241m=\u001b[39m [\u001b[38;5;124m'\u001b[39m\u001b[38;5;124mdata/images/wally_bg_one.jpg\u001b[39m\u001b[38;5;124m'\u001b[39m, \u001b[38;5;124m'\u001b[39m\u001b[38;5;124mdata/images/wally_bg_two.jpg\u001b[39m\u001b[38;5;124m'\u001b[39m, \n\u001b[1;32m      4\u001b[0m                   \u001b[38;5;124m'\u001b[39m\u001b[38;5;124mdata/images/wally_bg_three.jpg\u001b[39m\u001b[38;5;124m'\u001b[39m, \u001b[38;5;124m'\u001b[39m\u001b[38;5;124mdata/images/wally_bg_four.jpg\u001b[39m\u001b[38;5;124m'\u001b[39m,\n\u001b[1;32m      5\u001b[0m                  \u001b[38;5;124m'\u001b[39m\u001b[38;5;124mdata/images/wally_bg_five.jpg\u001b[39m\u001b[38;5;124m'\u001b[39m, \u001b[38;5;124m'\u001b[39m\u001b[38;5;124mdata/images/wally_bg_six.jpg\u001b[39m\u001b[38;5;124m'\u001b[39m, \n\u001b[1;32m      6\u001b[0m                  \u001b[38;5;124m'\u001b[39m\u001b[38;5;124mdata/images/wally_bg_seven.jpg\u001b[39m\u001b[38;5;124m'\u001b[39m, \u001b[38;5;124m'\u001b[39m\u001b[38;5;124mdata/images/wally_bg_eight.jpg\u001b[39m\u001b[38;5;124m'\u001b[39m,\n\u001b[1;32m      7\u001b[0m                  \u001b[38;5;124m'\u001b[39m\u001b[38;5;124mdata/images/wally_bg_nine.jpg\u001b[39m\u001b[38;5;124m'\u001b[39m, \u001b[38;5;124m'\u001b[39m\u001b[38;5;124mdata/images/wally_bg_ten.jpg\u001b[39m\u001b[38;5;124m'\u001b[39m]\n\u001b[1;32m      9\u001b[0m \u001b[38;5;28;01mfor\u001b[39;00m i, bg_path \u001b[38;5;129;01min\u001b[39;00m \u001b[38;5;28menumerate\u001b[39m(backgroud_path):\n",
      "File \u001b[0;32m~/anaconda3/lib/python3.11/site-packages/PIL/Image.py:3227\u001b[0m, in \u001b[0;36mopen\u001b[0;34m(fp, mode, formats)\u001b[0m\n\u001b[1;32m   3224\u001b[0m     filename \u001b[38;5;241m=\u001b[39m fp\n\u001b[1;32m   3226\u001b[0m \u001b[38;5;28;01mif\u001b[39;00m filename:\n\u001b[0;32m-> 3227\u001b[0m     fp \u001b[38;5;241m=\u001b[39m builtins\u001b[38;5;241m.\u001b[39mopen(filename, \u001b[38;5;124m\"\u001b[39m\u001b[38;5;124mrb\u001b[39m\u001b[38;5;124m\"\u001b[39m)\n\u001b[1;32m   3228\u001b[0m     exclusive_fp \u001b[38;5;241m=\u001b[39m \u001b[38;5;28;01mTrue\u001b[39;00m\n\u001b[1;32m   3230\u001b[0m \u001b[38;5;28;01mtry\u001b[39;00m:\n",
      "\u001b[0;31mFileNotFoundError\u001b[0m: [Errno 2] No such file or directory: 'data/images/waldo.jpg'"
     ]
    }
   ],
   "source": [
    "waldo_path = 'data/images/waldo.jpg'\n",
    "waldo = Image.open(waldo_path)\n",
    "backgroud_path = ['data/images/wally_bg_one.jpg', 'data/images/wally_bg_two.jpg', \n",
    "                  'data/images/wally_bg_three.jpg', 'data/images/wally_bg_four.jpg',\n",
    "                 'data/images/wally_bg_five.jpg', 'data/images/wally_bg_six.jpg', \n",
    "                 'data/images/wally_bg_seven.jpg', 'data/images/wally_bg_eight.jpg',\n",
    "                 'data/images/wally_bg_nine.jpg', 'data/images/wally_bg_ten.jpg']\n",
    "\n",
    "for i, bg_path in enumerate(backgroud_path):\n",
    "    resized_bg = resize_background(bg_path=bg_path, target_width=648, target_height=400)\n",
    "    print(f'Image{i+1} type: {type(resized_bg)}')\n",
    "    background_with_waldo = place_waldo_on_bg(waldo_path=waldo_path, bg_image=resized_bg)\n",
    "    file_name = f'bg{i+1}_with_waldo.jpg'\n",
    "    send_img_to_directory(directory_path='data/created_images', image=background_with_waldo, file_name=file_name)"
   ]
  },
  {
   "cell_type": "code",
   "execution_count": null,
   "id": "617e1e9e-ef11-4adf-8479-0a73bc7211ba",
   "metadata": {},
   "outputs": [],
   "source": []
  }
 ],
 "metadata": {
  "kernelspec": {
   "display_name": "Python 3 (ipykernel)",
   "language": "python",
   "name": "python3"
  },
  "language_info": {
   "codemirror_mode": {
    "name": "ipython",
    "version": 3
   },
   "file_extension": ".py",
   "mimetype": "text/x-python",
   "name": "python",
   "nbconvert_exporter": "python",
   "pygments_lexer": "ipython3",
   "version": "3.11.5"
  }
 },
 "nbformat": 4,
 "nbformat_minor": 5
}
