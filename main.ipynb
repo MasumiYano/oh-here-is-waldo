{
 "cells": [
  {
   "cell_type": "code",
   "execution_count": 1,
   "id": "d25956da-7ab4-4ea9-b301-fd73ed8c2bb5",
   "metadata": {
    "tags": []
   },
   "outputs": [],
   "source": [
    "import os\n",
    "import random\n",
    "from PIL import Image\n",
    "import matplotlib.pyplot as plt\n",
    "import matplotlib.image as mpimg\n",
    "import io"
   ]
  },
  {
   "cell_type": "code",
   "execution_count": 2,
   "id": "f3b64572-fd2a-45f9-bb72-d016acd2c753",
   "metadata": {
    "tags": []
   },
   "outputs": [],
   "source": [
    "IMAGE_WIDTH = 650\n",
    "IMAGE_HEIGHT = 400"
   ]
  },
  {
   "cell_type": "code",
   "execution_count": 3,
   "id": "d55ae594-70a6-4aa1-acb5-76976e360e1b",
   "metadata": {
    "tags": []
   },
   "outputs": [],
   "source": [
    "def convert_to_jpegimagefile(image):\n",
    "    with io.BytesIO() as buffer:\n",
    "        image.save(buffer, format=\"JPEG\")\n",
    "        buffer.seek(0)\n",
    "        return Image.open(buffer)\n",
    "\n",
    "def resize_background(bg_path, target_width, target_height):\n",
    "    with Image.open(bg_path) as bg:\n",
    "        bg_width, bg_height = bg.size\n",
    "#         Enlarge\n",
    "        if bg_width < target_width or bg_height < target_height:\n",
    "            resized_bg = bg.resize((target_width, target_height), Image.LANCZOS)\n",
    "#             Reduce\n",
    "        elif bg_width > target_width or bg_height > target_height:\n",
    "            resized_bg = bg.resize((target_width, target_height), Image.ANTIALIAS)\n",
    "        else:\n",
    "            resized_bg = bg.copy()  # Copy to ensure we don't return a closed image\n",
    "        return convert_to_jpegimagefile(resized_bg)"
   ]
  },
  {
   "cell_type": "code",
   "execution_count": 4,
   "id": "5d89c243-5055-42b2-a8ab-993c0d67d875",
   "metadata": {
    "tags": []
   },
   "outputs": [],
   "source": [
    "def place_waldo_on_bg(waldo_path, bg_image):\n",
    "    waldo = Image.open(waldo_path)\n",
    "    \n",
    "    waldo_width, waldo_height = waldo.size\n",
    "    bg_width, bg_height = bg_image.size\n",
    "    \n",
    "    if waldo_width > bg_width or waldo_height > bg_height:\n",
    "        factor = min((bg_width * .2)/waldo_width, (bg_height*.2)/waldo_height)\n",
    "        waldo = waldo.resize((int(waldo_width * factor), int(waldo_height * factor)), Image.ANTIALIAS)\n",
    "        waldo_width, waldo_height = waldo.size\n",
    "        \n",
    "    max_width_waldo = bg_width - waldo_width\n",
    "    max_height_waldo = bg_height - waldo_height\n",
    "    \n",
    "    place_width = random.randint(1, max_width_waldo)\n",
    "    place_height = random.randint(1, max_height_waldo)\n",
    "    \n",
    "    bg.paste(waldo, (place_width, place_height))\n",
    "    \n",
    "    return bg"
   ]
  },
  {
   "cell_type": "code",
   "execution_count": 5,
   "id": "be07b5d1-ab26-4c98-bcce-7d03b435dcb3",
   "metadata": {
    "tags": []
   },
   "outputs": [],
   "source": [
    "def send_img_to_directory(directory_path, image, file_name):\n",
    "    if not os.path.exists(directory_path):\n",
    "        os.makedirs(directory_path)\n",
    "        \n",
    "    file_path = os.path.join(directory_path, file_name)\n",
    "    image.save(file_name)\n",
    "    \n",
    "    return file_path"
   ]
  },
  {
   "cell_type": "code",
   "execution_count": 6,
   "id": "4f99efd5-fedc-4c7f-8ae3-f5cd1d42aad1",
   "metadata": {
    "tags": []
   },
   "outputs": [
    {
     "name": "stderr",
     "output_type": "stream",
     "text": [
      "/var/folders/jk/524t5p750nl3f8pm6p6q2bv40000gn/T/ipykernel_87365/211171276.py:15: DeprecationWarning: ANTIALIAS is deprecated and will be removed in Pillow 10 (2023-07-01). Use LANCZOS or Resampling.LANCZOS instead.\n",
      "  resized_bg = bg.resize((target_width, target_height), Image.ANTIALIAS)\n"
     ]
    },
    {
     "ename": "OSError",
     "evalue": "cannot write mode RGBA as JPEG",
     "output_type": "error",
     "traceback": [
      "\u001b[0;31m---------------------------------------------------------------------------\u001b[0m",
      "\u001b[0;31mKeyError\u001b[0m                                  Traceback (most recent call last)",
      "File \u001b[0;32m~/anaconda3/lib/python3.11/site-packages/PIL/JpegImagePlugin.py:643\u001b[0m, in \u001b[0;36m_save\u001b[0;34m(im, fp, filename)\u001b[0m\n\u001b[1;32m    642\u001b[0m \u001b[38;5;28;01mtry\u001b[39;00m:\n\u001b[0;32m--> 643\u001b[0m     rawmode \u001b[38;5;241m=\u001b[39m RAWMODE[im\u001b[38;5;241m.\u001b[39mmode]\n\u001b[1;32m    644\u001b[0m \u001b[38;5;28;01mexcept\u001b[39;00m \u001b[38;5;167;01mKeyError\u001b[39;00m \u001b[38;5;28;01mas\u001b[39;00m e:\n",
      "\u001b[0;31mKeyError\u001b[0m: 'RGBA'",
      "\nThe above exception was the direct cause of the following exception:\n",
      "\u001b[0;31mOSError\u001b[0m                                   Traceback (most recent call last)",
      "Cell \u001b[0;32mIn[6], line 10\u001b[0m\n\u001b[1;32m      3\u001b[0m backgroud_path \u001b[38;5;241m=\u001b[39m [\u001b[38;5;124m'\u001b[39m\u001b[38;5;124mdata/images/wally_bg_one.jpg\u001b[39m\u001b[38;5;124m'\u001b[39m, \u001b[38;5;124m'\u001b[39m\u001b[38;5;124mdata/images/wally_bg_two.jpg\u001b[39m\u001b[38;5;124m'\u001b[39m, \n\u001b[1;32m      4\u001b[0m                   \u001b[38;5;124m'\u001b[39m\u001b[38;5;124mdata/images/wally_bg_three.jpg\u001b[39m\u001b[38;5;124m'\u001b[39m, \u001b[38;5;124m'\u001b[39m\u001b[38;5;124mdata/images/wally_bg_four.jpg\u001b[39m\u001b[38;5;124m'\u001b[39m,\n\u001b[1;32m      5\u001b[0m                  \u001b[38;5;124m'\u001b[39m\u001b[38;5;124mdata/images/wally_bg_five.jpg\u001b[39m\u001b[38;5;124m'\u001b[39m, \u001b[38;5;124m'\u001b[39m\u001b[38;5;124mdata/images/wally_bg_six.jpg\u001b[39m\u001b[38;5;124m'\u001b[39m, \n\u001b[1;32m      6\u001b[0m                  \u001b[38;5;124m'\u001b[39m\u001b[38;5;124mdata/images/wally_bg_seven.jpg\u001b[39m\u001b[38;5;124m'\u001b[39m, \u001b[38;5;124m'\u001b[39m\u001b[38;5;124mdata/images/wally_bg_eight.jpg\u001b[39m\u001b[38;5;124m'\u001b[39m,\n\u001b[1;32m      7\u001b[0m                  \u001b[38;5;124m'\u001b[39m\u001b[38;5;124mdata/images/wally_bg_nine.jpg\u001b[39m\u001b[38;5;124m'\u001b[39m, \u001b[38;5;124m'\u001b[39m\u001b[38;5;124mdata/images/wally_bg_ten.jpg\u001b[39m\u001b[38;5;124m'\u001b[39m]\n\u001b[1;32m      9\u001b[0m \u001b[38;5;28;01mfor\u001b[39;00m i, bg_path \u001b[38;5;129;01min\u001b[39;00m \u001b[38;5;28menumerate\u001b[39m(backgroud_path):\n\u001b[0;32m---> 10\u001b[0m     resized_bg \u001b[38;5;241m=\u001b[39m resize_background(bg_path\u001b[38;5;241m=\u001b[39mbg_path, target_width\u001b[38;5;241m=\u001b[39m\u001b[38;5;241m648\u001b[39m, target_height\u001b[38;5;241m=\u001b[39m\u001b[38;5;241m400\u001b[39m)\n\u001b[1;32m     11\u001b[0m     \u001b[38;5;28mprint\u001b[39m(\u001b[38;5;124mf\u001b[39m\u001b[38;5;124m'\u001b[39m\u001b[38;5;124mImage\u001b[39m\u001b[38;5;132;01m{\u001b[39;00mi\u001b[38;5;241m+\u001b[39m\u001b[38;5;241m1\u001b[39m\u001b[38;5;132;01m}\u001b[39;00m\u001b[38;5;124m type: \u001b[39m\u001b[38;5;132;01m{\u001b[39;00m\u001b[38;5;28mtype\u001b[39m(resized_bg)\u001b[38;5;132;01m}\u001b[39;00m\u001b[38;5;124m'\u001b[39m)\n\u001b[1;32m     12\u001b[0m     background_with_waldo \u001b[38;5;241m=\u001b[39m place_waldo_on_bg(waldo_path\u001b[38;5;241m=\u001b[39mwaldo_path, bg_image\u001b[38;5;241m=\u001b[39mresized_bg)\n",
      "Cell \u001b[0;32mIn[3], line 18\u001b[0m, in \u001b[0;36mresize_background\u001b[0;34m(bg_path, target_width, target_height)\u001b[0m\n\u001b[1;32m     16\u001b[0m \u001b[38;5;28;01melse\u001b[39;00m:\n\u001b[1;32m     17\u001b[0m     resized_bg \u001b[38;5;241m=\u001b[39m bg\u001b[38;5;241m.\u001b[39mcopy()  \u001b[38;5;66;03m# Copy to ensure we don't return a closed image\u001b[39;00m\n\u001b[0;32m---> 18\u001b[0m \u001b[38;5;28;01mreturn\u001b[39;00m convert_to_jpegimagefile(resized_bg)\n",
      "Cell \u001b[0;32mIn[3], line 3\u001b[0m, in \u001b[0;36mconvert_to_jpegimagefile\u001b[0;34m(image)\u001b[0m\n\u001b[1;32m      1\u001b[0m \u001b[38;5;28;01mdef\u001b[39;00m \u001b[38;5;21mconvert_to_jpegimagefile\u001b[39m(image):\n\u001b[1;32m      2\u001b[0m     \u001b[38;5;28;01mwith\u001b[39;00m io\u001b[38;5;241m.\u001b[39mBytesIO() \u001b[38;5;28;01mas\u001b[39;00m buffer:\n\u001b[0;32m----> 3\u001b[0m         image\u001b[38;5;241m.\u001b[39msave(buffer, \u001b[38;5;28mformat\u001b[39m\u001b[38;5;241m=\u001b[39m\u001b[38;5;124m\"\u001b[39m\u001b[38;5;124mJPEG\u001b[39m\u001b[38;5;124m\"\u001b[39m)\n\u001b[1;32m      4\u001b[0m         buffer\u001b[38;5;241m.\u001b[39mseek(\u001b[38;5;241m0\u001b[39m)\n\u001b[1;32m      5\u001b[0m         \u001b[38;5;28;01mreturn\u001b[39;00m Image\u001b[38;5;241m.\u001b[39mopen(buffer)\n",
      "File \u001b[0;32m~/anaconda3/lib/python3.11/site-packages/PIL/Image.py:2431\u001b[0m, in \u001b[0;36mImage.save\u001b[0;34m(self, fp, format, **params)\u001b[0m\n\u001b[1;32m   2428\u001b[0m         fp \u001b[38;5;241m=\u001b[39m builtins\u001b[38;5;241m.\u001b[39mopen(filename, \u001b[38;5;124m\"\u001b[39m\u001b[38;5;124mw+b\u001b[39m\u001b[38;5;124m\"\u001b[39m)\n\u001b[1;32m   2430\u001b[0m \u001b[38;5;28;01mtry\u001b[39;00m:\n\u001b[0;32m-> 2431\u001b[0m     save_handler(\u001b[38;5;28mself\u001b[39m, fp, filename)\n\u001b[1;32m   2432\u001b[0m \u001b[38;5;28;01mexcept\u001b[39;00m \u001b[38;5;167;01mException\u001b[39;00m:\n\u001b[1;32m   2433\u001b[0m     \u001b[38;5;28;01mif\u001b[39;00m open_fp:\n",
      "File \u001b[0;32m~/anaconda3/lib/python3.11/site-packages/PIL/JpegImagePlugin.py:646\u001b[0m, in \u001b[0;36m_save\u001b[0;34m(im, fp, filename)\u001b[0m\n\u001b[1;32m    644\u001b[0m \u001b[38;5;28;01mexcept\u001b[39;00m \u001b[38;5;167;01mKeyError\u001b[39;00m \u001b[38;5;28;01mas\u001b[39;00m e:\n\u001b[1;32m    645\u001b[0m     msg \u001b[38;5;241m=\u001b[39m \u001b[38;5;124mf\u001b[39m\u001b[38;5;124m\"\u001b[39m\u001b[38;5;124mcannot write mode \u001b[39m\u001b[38;5;132;01m{\u001b[39;00mim\u001b[38;5;241m.\u001b[39mmode\u001b[38;5;132;01m}\u001b[39;00m\u001b[38;5;124m as JPEG\u001b[39m\u001b[38;5;124m\"\u001b[39m\n\u001b[0;32m--> 646\u001b[0m     \u001b[38;5;28;01mraise\u001b[39;00m \u001b[38;5;167;01mOSError\u001b[39;00m(msg) \u001b[38;5;28;01mfrom\u001b[39;00m \u001b[38;5;21;01me\u001b[39;00m\n\u001b[1;32m    648\u001b[0m info \u001b[38;5;241m=\u001b[39m im\u001b[38;5;241m.\u001b[39mencoderinfo\n\u001b[1;32m    650\u001b[0m dpi \u001b[38;5;241m=\u001b[39m [\u001b[38;5;28mround\u001b[39m(x) \u001b[38;5;28;01mfor\u001b[39;00m x \u001b[38;5;129;01min\u001b[39;00m info\u001b[38;5;241m.\u001b[39mget(\u001b[38;5;124m\"\u001b[39m\u001b[38;5;124mdpi\u001b[39m\u001b[38;5;124m\"\u001b[39m, (\u001b[38;5;241m0\u001b[39m, \u001b[38;5;241m0\u001b[39m))]\n",
      "\u001b[0;31mOSError\u001b[0m: cannot write mode RGBA as JPEG"
     ]
    }
   ],
   "source": [
    "waldo_path = 'data/images/waldo.jpg'\n",
    "waldo = Image.open(waldo_path)\n",
    "backgroud_path = ['data/images/wally_bg_one.jpg', 'data/images/wally_bg_two.jpg', \n",
    "                  'data/images/wally_bg_three.jpg', 'data/images/wally_bg_four.jpg',\n",
    "                 'data/images/wally_bg_five.jpg', 'data/images/wally_bg_six.jpg', \n",
    "                 'data/images/wally_bg_seven.jpg', 'data/images/wally_bg_eight.jpg',\n",
    "                 'data/images/wally_bg_nine.jpg', 'data/images/wally_bg_ten.jpg']\n",
    "\n",
    "for i, bg_path in enumerate(backgroud_path):\n",
    "    resized_bg = resize_background(bg_path=bg_path, target_width=648, target_height=400)\n",
    "    print(f'Image{i+1} type: {type(resized_bg)}')\n",
    "    background_with_waldo = place_waldo_on_bg(waldo_path=waldo_path, bg_image=resized_bg)\n",
    "    file_name = f'bg{i+1}_with_waldo.jpg'\n",
    "    send_img_to_directory(directory_path='data/created_images', image=background_with_waldo, file_name=file_name)"
   ]
  },
  {
   "cell_type": "code",
   "execution_count": null,
   "id": "617e1e9e-ef11-4adf-8479-0a73bc7211ba",
   "metadata": {},
   "outputs": [],
   "source": []
  }
 ],
 "metadata": {
  "kernelspec": {
   "display_name": "Python 3 (ipykernel)",
   "language": "python",
   "name": "python3"
  },
  "language_info": {
   "codemirror_mode": {
    "name": "ipython",
    "version": 3
   },
   "file_extension": ".py",
   "mimetype": "text/x-python",
   "name": "python",
   "nbconvert_exporter": "python",
   "pygments_lexer": "ipython3",
   "version": "3.11.5"
  }
 },
 "nbformat": 4,
 "nbformat_minor": 5
}
